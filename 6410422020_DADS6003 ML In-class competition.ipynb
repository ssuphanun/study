{
 "cells": [
  {
   "cell_type": "markdown",
   "id": "4779e388",
   "metadata": {
    "papermill": {
     "duration": 0.020372,
     "end_time": "2022-06-12T17:25:56.344306",
     "exception": false,
     "start_time": "2022-06-12T17:25:56.323934",
     "status": "completed"
    },
    "tags": []
   },
   "source": [
    "6410422020_Suphanun Sukamta, Rank#12 Team name: TXT"
   ]
  },
  {
   "cell_type": "code",
   "execution_count": 1,
   "id": "057482fc",
   "metadata": {
    "_cell_guid": "b1076dfc-b9ad-4769-8c92-a6c4dae69d19",
    "_uuid": "8f2839f25d086af736a60e9eeb907d3b93b6e0e5",
    "execution": {
     "iopub.execute_input": "2022-06-12T17:25:56.389227Z",
     "iopub.status.busy": "2022-06-12T17:25:56.387514Z",
     "iopub.status.idle": "2022-06-12T17:25:56.400754Z",
     "shell.execute_reply": "2022-06-12T17:25:56.401620Z",
     "shell.execute_reply.started": "2022-06-12T17:24:29.279428Z"
    },
    "papermill": {
     "duration": 0.03751,
     "end_time": "2022-06-12T17:25:56.402065",
     "exception": false,
     "start_time": "2022-06-12T17:25:56.364555",
     "status": "completed"
    },
    "tags": []
   },
   "outputs": [
    {
     "name": "stdout",
     "output_type": "stream",
     "text": [
      "/kaggle/input/dads6003-in-class-competition/sampleSubmission.csv\n",
      "/kaggle/input/dads6003-in-class-competition/train.csv\n",
      "/kaggle/input/dads6003-in-class-competition/test.csv\n"
     ]
    }
   ],
   "source": [
    "# This Python 3 environment comes with many helpful analytics libraries installed\n",
    "# It is defined by the kaggle/python Docker image: https://github.com/kaggle/docker-python\n",
    "# For example, here's several helpful packages to load\n",
    "\n",
    "import numpy as np # linear algebra\n",
    "import pandas as pd # data processing, CSV file I/O (e.g. pd.read_csv)\n",
    "\n",
    "# Input data files are available in the read-only \"../input/\" directory\n",
    "# For example, running this (by clicking run or pressing Shift+Enter) will list all files under the input directory\n",
    "\n",
    "import os\n",
    "for dirname, _, filenames in os.walk('/kaggle/input'):\n",
    "    for filename in filenames:\n",
    "        print(os.path.join(dirname, filename))\n",
    "\n",
    "# You can write up to 20GB to the current directory (/kaggle/working/) that gets preserved as output when you create a version using \"Save & Run All\" \n",
    "# You can also write temporary files to /kaggle/temp/, but they won't be saved outside of the current session"
   ]
  },
  {
   "cell_type": "code",
   "execution_count": 2,
   "id": "dbec302c",
   "metadata": {
    "execution": {
     "iopub.execute_input": "2022-06-12T17:25:56.449477Z",
     "iopub.status.busy": "2022-06-12T17:25:56.448495Z",
     "iopub.status.idle": "2022-06-12T17:25:56.452195Z",
     "shell.execute_reply": "2022-06-12T17:25:56.452760Z",
     "shell.execute_reply.started": "2022-06-12T17:24:29.313595Z"
    },
    "papermill": {
     "duration": 0.02769,
     "end_time": "2022-06-12T17:25:56.452928",
     "exception": false,
     "start_time": "2022-06-12T17:25:56.425238",
     "status": "completed"
    },
    "tags": []
   },
   "outputs": [],
   "source": [
    "import pandas as pd\n",
    "import numpy as np"
   ]
  },
  {
   "cell_type": "code",
   "execution_count": 3,
   "id": "bc2811b3",
   "metadata": {
    "execution": {
     "iopub.execute_input": "2022-06-12T17:25:56.496445Z",
     "iopub.status.busy": "2022-06-12T17:25:56.495503Z",
     "iopub.status.idle": "2022-06-12T17:25:56.620621Z",
     "shell.execute_reply": "2022-06-12T17:25:56.621076Z",
     "shell.execute_reply.started": "2022-06-12T17:24:29.320287Z"
    },
    "papermill": {
     "duration": 0.147978,
     "end_time": "2022-06-12T17:25:56.621236",
     "exception": false,
     "start_time": "2022-06-12T17:25:56.473258",
     "status": "completed"
    },
    "tags": []
   },
   "outputs": [
    {
     "data": {
      "text/html": [
       "<div>\n",
       "<style scoped>\n",
       "    .dataframe tbody tr th:only-of-type {\n",
       "        vertical-align: middle;\n",
       "    }\n",
       "\n",
       "    .dataframe tbody tr th {\n",
       "        vertical-align: top;\n",
       "    }\n",
       "\n",
       "    .dataframe thead th {\n",
       "        text-align: right;\n",
       "    }\n",
       "</style>\n",
       "<table border=\"1\" class=\"dataframe\">\n",
       "  <thead>\n",
       "    <tr style=\"text-align: right;\">\n",
       "      <th></th>\n",
       "      <th>x1</th>\n",
       "      <th>x2</th>\n",
       "      <th>x3</th>\n",
       "      <th>x4</th>\n",
       "      <th>x5</th>\n",
       "      <th>x6</th>\n",
       "      <th>x7</th>\n",
       "      <th>x8</th>\n",
       "      <th>x9</th>\n",
       "      <th>x10</th>\n",
       "      <th>...</th>\n",
       "      <th>x12</th>\n",
       "      <th>x13</th>\n",
       "      <th>x14</th>\n",
       "      <th>x15</th>\n",
       "      <th>x16</th>\n",
       "      <th>x17</th>\n",
       "      <th>x18</th>\n",
       "      <th>x19</th>\n",
       "      <th>x20</th>\n",
       "      <th>y</th>\n",
       "    </tr>\n",
       "  </thead>\n",
       "  <tbody>\n",
       "    <tr>\n",
       "      <th>0</th>\n",
       "      <td>-10.731014</td>\n",
       "      <td>-166.447703</td>\n",
       "      <td>57.634618</td>\n",
       "      <td>5.851483</td>\n",
       "      <td>6.443051</td>\n",
       "      <td>773.535357</td>\n",
       "      <td>-425.516507</td>\n",
       "      <td>19.541551</td>\n",
       "      <td>102333.24180</td>\n",
       "      <td>37.515512</td>\n",
       "      <td>...</td>\n",
       "      <td>1.177903</td>\n",
       "      <td>4531.019914</td>\n",
       "      <td>65.320993</td>\n",
       "      <td>10.856422</td>\n",
       "      <td>42.317769</td>\n",
       "      <td>215.727832</td>\n",
       "      <td>9.922942</td>\n",
       "      <td>194.151039</td>\n",
       "      <td>-4.580311</td>\n",
       "      <td>0</td>\n",
       "    </tr>\n",
       "    <tr>\n",
       "      <th>1</th>\n",
       "      <td>-11.357862</td>\n",
       "      <td>-175.583196</td>\n",
       "      <td>61.413742</td>\n",
       "      <td>4.957525</td>\n",
       "      <td>6.022880</td>\n",
       "      <td>592.665369</td>\n",
       "      <td>-154.993322</td>\n",
       "      <td>17.165756</td>\n",
       "      <td>56410.00878</td>\n",
       "      <td>33.667832</td>\n",
       "      <td>...</td>\n",
       "      <td>6.288225</td>\n",
       "      <td>5745.900235</td>\n",
       "      <td>124.629610</td>\n",
       "      <td>19.519498</td>\n",
       "      <td>37.481917</td>\n",
       "      <td>193.590955</td>\n",
       "      <td>10.280823</td>\n",
       "      <td>159.152326</td>\n",
       "      <td>-4.361565</td>\n",
       "      <td>0</td>\n",
       "    </tr>\n",
       "    <tr>\n",
       "      <th>2</th>\n",
       "      <td>-19.008191</td>\n",
       "      <td>-266.301983</td>\n",
       "      <td>43.228042</td>\n",
       "      <td>5.173549</td>\n",
       "      <td>5.569678</td>\n",
       "      <td>912.741203</td>\n",
       "      <td>-337.001477</td>\n",
       "      <td>18.362978</td>\n",
       "      <td>37204.35472</td>\n",
       "      <td>24.194495</td>\n",
       "      <td>...</td>\n",
       "      <td>5.241047</td>\n",
       "      <td>5369.285274</td>\n",
       "      <td>136.536890</td>\n",
       "      <td>16.824492</td>\n",
       "      <td>31.761223</td>\n",
       "      <td>195.816664</td>\n",
       "      <td>9.604161</td>\n",
       "      <td>148.690528</td>\n",
       "      <td>-5.322491</td>\n",
       "      <td>1</td>\n",
       "    </tr>\n",
       "    <tr>\n",
       "      <th>3</th>\n",
       "      <td>-16.849847</td>\n",
       "      <td>-228.458742</td>\n",
       "      <td>45.440429</td>\n",
       "      <td>6.267129</td>\n",
       "      <td>4.125443</td>\n",
       "      <td>834.109486</td>\n",
       "      <td>-297.096954</td>\n",
       "      <td>16.375756</td>\n",
       "      <td>54967.23130</td>\n",
       "      <td>20.578061</td>\n",
       "      <td>...</td>\n",
       "      <td>2.316119</td>\n",
       "      <td>NaN</td>\n",
       "      <td>118.295834</td>\n",
       "      <td>19.972844</td>\n",
       "      <td>51.722932</td>\n",
       "      <td>210.446677</td>\n",
       "      <td>8.108592</td>\n",
       "      <td>310.539447</td>\n",
       "      <td>-5.205344</td>\n",
       "      <td>0</td>\n",
       "    </tr>\n",
       "    <tr>\n",
       "      <th>4</th>\n",
       "      <td>-11.518749</td>\n",
       "      <td>-345.861627</td>\n",
       "      <td>37.470283</td>\n",
       "      <td>6.178874</td>\n",
       "      <td>5.527774</td>\n",
       "      <td>634.255353</td>\n",
       "      <td>-243.072126</td>\n",
       "      <td>16.785630</td>\n",
       "      <td>62397.51981</td>\n",
       "      <td>39.815572</td>\n",
       "      <td>...</td>\n",
       "      <td>5.366404</td>\n",
       "      <td>6161.928292</td>\n",
       "      <td>61.414626</td>\n",
       "      <td>15.990853</td>\n",
       "      <td>51.659323</td>\n",
       "      <td>203.356424</td>\n",
       "      <td>12.552922</td>\n",
       "      <td>241.868249</td>\n",
       "      <td>-4.889072</td>\n",
       "      <td>1</td>\n",
       "    </tr>\n",
       "  </tbody>\n",
       "</table>\n",
       "<p>5 rows × 21 columns</p>\n",
       "</div>"
      ],
      "text/plain": [
       "          x1          x2         x3        x4        x5          x6  \\\n",
       "0 -10.731014 -166.447703  57.634618  5.851483  6.443051  773.535357   \n",
       "1 -11.357862 -175.583196  61.413742  4.957525  6.022880  592.665369   \n",
       "2 -19.008191 -266.301983  43.228042  5.173549  5.569678  912.741203   \n",
       "3 -16.849847 -228.458742  45.440429  6.267129  4.125443  834.109486   \n",
       "4 -11.518749 -345.861627  37.470283  6.178874  5.527774  634.255353   \n",
       "\n",
       "           x7         x8            x9        x10  ...       x12          x13  \\\n",
       "0 -425.516507  19.541551  102333.24180  37.515512  ...  1.177903  4531.019914   \n",
       "1 -154.993322  17.165756   56410.00878  33.667832  ...  6.288225  5745.900235   \n",
       "2 -337.001477  18.362978   37204.35472  24.194495  ...  5.241047  5369.285274   \n",
       "3 -297.096954  16.375756   54967.23130  20.578061  ...  2.316119          NaN   \n",
       "4 -243.072126  16.785630   62397.51981  39.815572  ...  5.366404  6161.928292   \n",
       "\n",
       "          x14        x15        x16         x17        x18         x19  \\\n",
       "0   65.320993  10.856422  42.317769  215.727832   9.922942  194.151039   \n",
       "1  124.629610  19.519498  37.481917  193.590955  10.280823  159.152326   \n",
       "2  136.536890  16.824492  31.761223  195.816664   9.604161  148.690528   \n",
       "3  118.295834  19.972844  51.722932  210.446677   8.108592  310.539447   \n",
       "4   61.414626  15.990853  51.659323  203.356424  12.552922  241.868249   \n",
       "\n",
       "        x20  y  \n",
       "0 -4.580311  0  \n",
       "1 -4.361565  0  \n",
       "2 -5.322491  1  \n",
       "3 -5.205344  0  \n",
       "4 -4.889072  1  \n",
       "\n",
       "[5 rows x 21 columns]"
      ]
     },
     "execution_count": 3,
     "metadata": {},
     "output_type": "execute_result"
    }
   ],
   "source": [
    "df_train = pd.read_csv('/kaggle/input/dads6003-in-class-competition/train.csv')\n",
    "df_train.head()"
   ]
  },
  {
   "cell_type": "code",
   "execution_count": 4,
   "id": "a8b33324",
   "metadata": {
    "execution": {
     "iopub.execute_input": "2022-06-12T17:25:56.665220Z",
     "iopub.status.busy": "2022-06-12T17:25:56.664174Z",
     "iopub.status.idle": "2022-06-12T17:25:56.689290Z",
     "shell.execute_reply": "2022-06-12T17:25:56.688831Z",
     "shell.execute_reply.started": "2022-06-12T17:24:29.437557Z"
    },
    "papermill": {
     "duration": 0.048419,
     "end_time": "2022-06-12T17:25:56.689436",
     "exception": false,
     "start_time": "2022-06-12T17:25:56.641017",
     "status": "completed"
    },
    "tags": []
   },
   "outputs": [
    {
     "name": "stdout",
     "output_type": "stream",
     "text": [
      "<class 'pandas.core.frame.DataFrame'>\n",
      "RangeIndex: 7500 entries, 0 to 7499\n",
      "Data columns (total 21 columns):\n",
      " #   Column  Non-Null Count  Dtype  \n",
      "---  ------  --------------  -----  \n",
      " 0   x1      7391 non-null   float64\n",
      " 1   x2      7466 non-null   float64\n",
      " 2   x3      7444 non-null   float64\n",
      " 3   x4      7407 non-null   float64\n",
      " 4   x5      7440 non-null   float64\n",
      " 5   x6      7382 non-null   float64\n",
      " 6   x7      7419 non-null   float64\n",
      " 7   x8      7365 non-null   float64\n",
      " 8   x9      7500 non-null   float64\n",
      " 9   x10     7421 non-null   float64\n",
      " 10  x11     7483 non-null   float64\n",
      " 11  x12     7488 non-null   float64\n",
      " 12  x13     7370 non-null   float64\n",
      " 13  x14     7376 non-null   float64\n",
      " 14  x15     7393 non-null   float64\n",
      " 15  x16     7407 non-null   float64\n",
      " 16  x17     7375 non-null   float64\n",
      " 17  x18     7480 non-null   float64\n",
      " 18  x19     7355 non-null   float64\n",
      " 19  x20     7374 non-null   float64\n",
      " 20  y       7500 non-null   int64  \n",
      "dtypes: float64(20), int64(1)\n",
      "memory usage: 1.2 MB\n"
     ]
    }
   ],
   "source": [
    "df_train.info()"
   ]
  },
  {
   "cell_type": "code",
   "execution_count": 5,
   "id": "fcbf2dfe",
   "metadata": {
    "execution": {
     "iopub.execute_input": "2022-06-12T17:25:56.733929Z",
     "iopub.status.busy": "2022-06-12T17:25:56.732947Z",
     "iopub.status.idle": "2022-06-12T17:26:01.202645Z",
     "shell.execute_reply": "2022-06-12T17:26:01.201830Z",
     "shell.execute_reply.started": "2022-06-12T17:24:29.467876Z"
    },
    "papermill": {
     "duration": 4.493034,
     "end_time": "2022-06-12T17:26:01.202845",
     "exception": false,
     "start_time": "2022-06-12T17:25:56.709811",
     "status": "completed"
    },
    "tags": []
   },
   "outputs": [
    {
     "data": {
      "text/plain": [
       "array([[<AxesSubplot:title={'center':'x20'}>]], dtype=object)"
      ]
     },
     "execution_count": 5,
     "metadata": {},
     "output_type": "execute_result"
    },
    {
     "data": {
      "image/png": "[encoded data removed]",
      "text/plain": [
       "<Figure size 432x288 with 1 Axes>"
      ]
     },
     "metadata": {
      "needs_background": "light"
     },
     "output_type": "display_data"
    },
    {
     "data": {
      "image/png": "[encoded data removed]",
      "text/plain": [
       "<Figure size 432x288 with 1 Axes>"
      ]
     },
     "metadata": {
      "needs_background": "light"
     },
     "output_type": "display_data"
    },
    {
     "data": {
      "image/png": "[encoded data removed]",
      "text/plain": [
       "<Figure size 432x288 with 1 Axes>"
      ]
     },
     "metadata": {
      "needs_background": "light"
     },
     "output_type": "display_data"
    },
    {
     "data": {
      "image/png": "[encoded data removed]",
      "text/plain": [
       "<Figure size 432x288 with 1 Axes>"
      ]
     },
     "metadata": {
      "needs_background": "light"
     },
     "output_type": "display_data"
    },
    {
     "data": {
      "image/png": "[encoded data removed]",
      "text/plain": [
       "<Figure size 432x288 with 1 Axes>"
      ]
     },
     "metadata": {
      "needs_background": "light"
     },
     "output_type": "display_data"
    },
    {
     "data": {
      "image/png": "[encoded data removed]",
      "text/plain": [
       "<Figure size 432x288 with 1 Axes>"
      ]
     },
     "metadata": {
      "needs_background": "light"
     },
     "output_type": "display_data"
    },
    {
     "data": {
      "image/png": "[encoded data removed]",
      "text/plain": [
       "<Figure size 432x288 with 1 Axes>"
      ]
     },
     "metadata": {
      "needs_background": "light"
     },
     "output_type": "display_data"
    },
    {
     "data": {
      "image/png": "[encoded data removed]",
      "text/plain": [
       "<Figure size 432x288 with 1 Axes>"
      ]
     },
     "metadata": {
      "needs_background": "light"
     },
     "output_type": "display_data"
    },
    {
     "data": {
      "image/png": "[encoded data removed]",
      "text/plain": [
       "<Figure size 432x288 with 1 Axes>"
      ]
     },
     "metadata": {
      "needs_background": "light"
     },
     "output_type": "display_data"
    },
    {
     "data": {
      "image/png": "[encoded data removed]",
      "text/plain": [
       "<Figure size 432x288 with 1 Axes>"
      ]
     },
     "metadata": {
      "needs_background": "light"
     },
     "output_type": "display_data"
    },
    {
     "data": {
      "image/png": "[encoded data removed]",
      "text/plain": [
       "<Figure size 432x288 with 1 Axes>"
      ]
     },
     "metadata": {
      "needs_background": "light"
     },
     "output_type": "display_data"
    },
    {
     "data": {
      "image/png": "[encoded data removed]",
      "text/plain": [
       "<Figure size 432x288 with 1 Axes>"
      ]
     },
     "metadata": {
      "needs_background": "light"
     },
     "output_type": "display_data"
    },
    {
     "data": {
      "image/png": "[encoded data removed]",
      "text/plain": [
       "<Figure size 432x288 with 1 Axes>"
      ]
     },
     "metadata": {
      "needs_background": "light"
     },
     "output_type": "display_data"
    },
    {
     "data": {
      "image/png": "[encoded data removed]",
      "text/plain": [
       "<Figure size 432x288 with 1 Axes>"
      ]
     },
     "metadata": {
      "needs_background": "light"
     },
     "output_type": "display_data"
    },
    {
     "data": {
      "image/png": "[encoded data removed]",
      "text/plain": [
       "<Figure size 432x288 with 1 Axes>"
      ]
     },
     "metadata": {
      "needs_background": "light"
     },
     "output_type": "display_data"
    },
    {
     "data": {
      "image/png": "[encoded data removed]",
      "text/plain": [
       "<Figure size 432x288 with 1 Axes>"
      ]
     },
     "metadata": {
      "needs_background": "light"
     },
     "output_type": "display_data"
    },
    {
     "data": {
      "image/png": "[encoded data removed]",
      "text/plain": [
       "<Figure size 432x288 with 1 Axes>"
      ]
     },
     "metadata": {
      "needs_background": "light"
     },
     "output_type": "display_data"
    },
    {
     "data": {
      "image/png": "[encoded data removed]",
      "text/plain": [
       "<Figure size 432x288 with 1 Axes>"
      ]
     },
     "metadata": {
      "needs_background": "light"
     },
     "output_type": "display_data"
    },
    {
     "data": {
      "image/png": "[encoded data removed]",
      "text/plain": [
       "<Figure size 432x288 with 1 Axes>"
      ]
     },
     "metadata": {
      "needs_background": "light"
     },
     "output_type": "display_data"
    },
    {
     "data": {
      "image/png": "[encoded data removed]",
      "text/plain": [
       "<Figure size 432x288 with 1 Axes>"
      ]
     },
     "metadata": {
      "needs_background": "light"
     },
     "output_type": "display_data"
    }
   ],
   "source": [
    "import matplotlib.pyplot as plt\n",
    "import numpy as np\n",
    "\n",
    "df_train.hist(column='x1')\n",
    "df_train.hist(column='x2')\n",
    "df_train.hist(column='x3')\n",
    "df_train.hist(column='x4')\n",
    "df_train.hist(column='x5')\n",
    "df_train.hist(column='x6')\n",
    "df_train.hist(column='x7')\n",
    "df_train.hist(column='x8')\n",
    "df_train.hist(column='x9')\n",
    "df_train.hist(column='x10')\n",
    "df_train.hist(column='x11')\n",
    "df_train.hist(column='x12')\n",
    "df_train.hist(column='x13')\n",
    "df_train.hist(column='x14')\n",
    "df_train.hist(column='x15')\n",
    "df_train.hist(column='x16')\n",
    "df_train.hist(column='x17')\n",
    "df_train.hist(column='x18')\n",
    "df_train.hist(column='x19')\n",
    "df_train.hist(column='x20')"
   ]
  },
  {
   "cell_type": "code",
   "execution_count": 6,
   "id": "4e079e29",
   "metadata": {
    "execution": {
     "iopub.execute_input": "2022-06-12T17:26:01.279235Z",
     "iopub.status.busy": "2022-06-12T17:26:01.278249Z",
     "iopub.status.idle": "2022-06-12T17:26:01.286505Z",
     "shell.execute_reply": "2022-06-12T17:26:01.287238Z",
     "shell.execute_reply.started": "2022-06-12T17:24:33.957811Z"
    },
    "papermill": {
     "duration": 0.046398,
     "end_time": "2022-06-12T17:26:01.287467",
     "exception": false,
     "start_time": "2022-06-12T17:26:01.241069",
     "status": "completed"
    },
    "tags": []
   },
   "outputs": [
    {
     "name": "stdout",
     "output_type": "stream",
     "text": [
      "Feature  Nan\n",
      " x1     109\n",
      "x2      34\n",
      "x3      56\n",
      "x4      93\n",
      "x5      60\n",
      "x6     118\n",
      "x7      81\n",
      "x8     135\n",
      "x9       0\n",
      "x10     79\n",
      "x11     17\n",
      "x12     12\n",
      "x13    130\n",
      "x14    124\n",
      "x15    107\n",
      "x16     93\n",
      "x17    125\n",
      "x18     20\n",
      "x19    145\n",
      "x20    126\n",
      "dtype: int64\n"
     ]
    }
   ],
   "source": [
    "count_nan = df_train[['x'+str(i) for i in range(1,21)]].isnull().sum()\n",
    "print('Feature  Nan\\n',count_nan)"
   ]
  },
  {
   "cell_type": "code",
   "execution_count": 7,
   "id": "3e4018f3",
   "metadata": {
    "execution": {
     "iopub.execute_input": "2022-06-12T17:26:01.372505Z",
     "iopub.status.busy": "2022-06-12T17:26:01.371497Z",
     "iopub.status.idle": "2022-06-12T17:26:01.385714Z",
     "shell.execute_reply": "2022-06-12T17:26:01.387145Z",
     "shell.execute_reply.started": "2022-06-12T17:24:33.969203Z"
    },
    "papermill": {
     "duration": 0.056362,
     "end_time": "2022-06-12T17:26:01.387395",
     "exception": false,
     "start_time": "2022-06-12T17:26:01.331033",
     "status": "completed"
    },
    "tags": []
   },
   "outputs": [
    {
     "name": "stdout",
     "output_type": "stream",
     "text": [
      "<class 'pandas.core.frame.DataFrame'>\n",
      "Int64Index: 5985 entries, 0 to 7499\n",
      "Data columns (total 21 columns):\n",
      " #   Column  Non-Null Count  Dtype  \n",
      "---  ------  --------------  -----  \n",
      " 0   x1      5985 non-null   float64\n",
      " 1   x2      5985 non-null   float64\n",
      " 2   x3      5985 non-null   float64\n",
      " 3   x4      5985 non-null   float64\n",
      " 4   x5      5985 non-null   float64\n",
      " 5   x6      5985 non-null   float64\n",
      " 6   x7      5985 non-null   float64\n",
      " 7   x8      5985 non-null   float64\n",
      " 8   x9      5985 non-null   float64\n",
      " 9   x10     5985 non-null   float64\n",
      " 10  x11     5985 non-null   float64\n",
      " 11  x12     5985 non-null   float64\n",
      " 12  x13     5985 non-null   float64\n",
      " 13  x14     5985 non-null   float64\n",
      " 14  x15     5985 non-null   float64\n",
      " 15  x16     5985 non-null   float64\n",
      " 16  x17     5985 non-null   float64\n",
      " 17  x18     5985 non-null   float64\n",
      " 18  x19     5985 non-null   float64\n",
      " 19  x20     5985 non-null   float64\n",
      " 20  y       5985 non-null   int64  \n",
      "dtypes: float64(20), int64(1)\n",
      "memory usage: 1.0 MB\n"
     ]
    }
   ],
   "source": [
    "train = df_train.dropna()\n",
    "train.info()"
   ]
  },
  {
   "cell_type": "code",
   "execution_count": 8,
   "id": "1504211d",
   "metadata": {
    "execution": {
     "iopub.execute_input": "2022-06-12T17:26:01.469684Z",
     "iopub.status.busy": "2022-06-12T17:26:01.469036Z",
     "iopub.status.idle": "2022-06-12T17:26:01.474493Z",
     "shell.execute_reply": "2022-06-12T17:26:01.475058Z",
     "shell.execute_reply.started": "2022-06-12T17:24:33.994385Z"
    },
    "papermill": {
     "duration": 0.046493,
     "end_time": "2022-06-12T17:26:01.475231",
     "exception": false,
     "start_time": "2022-06-12T17:26:01.428738",
     "status": "completed"
    },
    "tags": []
   },
   "outputs": [
    {
     "name": "stdout",
     "output_type": "stream",
     "text": [
      "Feature  Nan\n",
      " x1     0\n",
      "x2     0\n",
      "x3     0\n",
      "x4     0\n",
      "x5     0\n",
      "x6     0\n",
      "x7     0\n",
      "x8     0\n",
      "x9     0\n",
      "x10    0\n",
      "x11    0\n",
      "x12    0\n",
      "x13    0\n",
      "x14    0\n",
      "x15    0\n",
      "x16    0\n",
      "x17    0\n",
      "x18    0\n",
      "x19    0\n",
      "x20    0\n",
      "dtype: int64\n"
     ]
    }
   ],
   "source": [
    "count_nan = train[['x'+str(i) for i in range(1,21)]].isnull().sum()\n",
    "print('Feature  Nan\\n',count_nan)"
   ]
  },
  {
   "cell_type": "code",
   "execution_count": 9,
   "id": "411d2ca9",
   "metadata": {
    "execution": {
     "iopub.execute_input": "2022-06-12T17:26:01.548120Z",
     "iopub.status.busy": "2022-06-12T17:26:01.547467Z",
     "iopub.status.idle": "2022-06-12T17:26:01.592888Z",
     "shell.execute_reply": "2022-06-12T17:26:01.592264Z",
     "shell.execute_reply.started": "2022-06-12T17:24:34.009137Z"
    },
    "papermill": {
     "duration": 0.083896,
     "end_time": "2022-06-12T17:26:01.593052",
     "exception": false,
     "start_time": "2022-06-12T17:26:01.509156",
     "status": "completed"
    },
    "tags": []
   },
   "outputs": [
    {
     "data": {
      "text/html": [
       "<div>\n",
       "<style scoped>\n",
       "    .dataframe tbody tr th:only-of-type {\n",
       "        vertical-align: middle;\n",
       "    }\n",
       "\n",
       "    .dataframe tbody tr th {\n",
       "        vertical-align: top;\n",
       "    }\n",
       "\n",
       "    .dataframe thead th {\n",
       "        text-align: right;\n",
       "    }\n",
       "</style>\n",
       "<table border=\"1\" class=\"dataframe\">\n",
       "  <thead>\n",
       "    <tr style=\"text-align: right;\">\n",
       "      <th></th>\n",
       "      <th>x1</th>\n",
       "      <th>x2</th>\n",
       "      <th>x3</th>\n",
       "      <th>x4</th>\n",
       "      <th>x5</th>\n",
       "      <th>x6</th>\n",
       "      <th>x7</th>\n",
       "      <th>x8</th>\n",
       "      <th>x9</th>\n",
       "      <th>x10</th>\n",
       "      <th>x11</th>\n",
       "      <th>x12</th>\n",
       "      <th>x13</th>\n",
       "      <th>x14</th>\n",
       "      <th>x15</th>\n",
       "      <th>x16</th>\n",
       "      <th>x17</th>\n",
       "      <th>x18</th>\n",
       "      <th>x19</th>\n",
       "      <th>x20</th>\n",
       "    </tr>\n",
       "  </thead>\n",
       "  <tbody>\n",
       "    <tr>\n",
       "      <th>0</th>\n",
       "      <td>-14.880285</td>\n",
       "      <td>-413.657030</td>\n",
       "      <td>17.037929</td>\n",
       "      <td>5.627481</td>\n",
       "      <td>6.262187</td>\n",
       "      <td>704.164878</td>\n",
       "      <td>-269.815659</td>\n",
       "      <td>13.503896</td>\n",
       "      <td>60805.03782</td>\n",
       "      <td>31.065906</td>\n",
       "      <td>5.625478</td>\n",
       "      <td>5.150013</td>\n",
       "      <td>6282.637653</td>\n",
       "      <td>174.281276</td>\n",
       "      <td>19.959450</td>\n",
       "      <td>32.278906</td>\n",
       "      <td>206.323118</td>\n",
       "      <td>8.337124</td>\n",
       "      <td>232.140628</td>\n",
       "      <td>-5.120450</td>\n",
       "    </tr>\n",
       "    <tr>\n",
       "      <th>1</th>\n",
       "      <td>-13.987087</td>\n",
       "      <td>-235.197680</td>\n",
       "      <td>53.670585</td>\n",
       "      <td>4.743702</td>\n",
       "      <td>4.670301</td>\n",
       "      <td>1226.941573</td>\n",
       "      <td>-184.656449</td>\n",
       "      <td>7.034055</td>\n",
       "      <td>55445.68723</td>\n",
       "      <td>15.189238</td>\n",
       "      <td>15.746002</td>\n",
       "      <td>3.880180</td>\n",
       "      <td>3759.028105</td>\n",
       "      <td>32.216142</td>\n",
       "      <td>17.054081</td>\n",
       "      <td>35.934156</td>\n",
       "      <td>191.790254</td>\n",
       "      <td>10.985527</td>\n",
       "      <td>267.024627</td>\n",
       "      <td>-5.200961</td>\n",
       "    </tr>\n",
       "    <tr>\n",
       "      <th>2</th>\n",
       "      <td>-11.764850</td>\n",
       "      <td>-192.880170</td>\n",
       "      <td>38.687566</td>\n",
       "      <td>5.606648</td>\n",
       "      <td>4.147060</td>\n",
       "      <td>940.690132</td>\n",
       "      <td>-182.564985</td>\n",
       "      <td>17.218596</td>\n",
       "      <td>31562.61815</td>\n",
       "      <td>34.769586</td>\n",
       "      <td>12.766144</td>\n",
       "      <td>4.885215</td>\n",
       "      <td>6722.719526</td>\n",
       "      <td>181.736690</td>\n",
       "      <td>20.479688</td>\n",
       "      <td>33.809666</td>\n",
       "      <td>166.718488</td>\n",
       "      <td>7.087623</td>\n",
       "      <td>115.762593</td>\n",
       "      <td>-6.080712</td>\n",
       "    </tr>\n",
       "    <tr>\n",
       "      <th>3</th>\n",
       "      <td>-10.790193</td>\n",
       "      <td>-204.849932</td>\n",
       "      <td>50.837951</td>\n",
       "      <td>5.934410</td>\n",
       "      <td>5.310772</td>\n",
       "      <td>794.581702</td>\n",
       "      <td>-245.911853</td>\n",
       "      <td>9.936746</td>\n",
       "      <td>47299.76010</td>\n",
       "      <td>25.565751</td>\n",
       "      <td>14.068207</td>\n",
       "      <td>7.156563</td>\n",
       "      <td>5651.188202</td>\n",
       "      <td>127.570137</td>\n",
       "      <td>20.904829</td>\n",
       "      <td>49.857911</td>\n",
       "      <td>139.872041</td>\n",
       "      <td>9.597151</td>\n",
       "      <td>213.574163</td>\n",
       "      <td>-6.355565</td>\n",
       "    </tr>\n",
       "    <tr>\n",
       "      <th>4</th>\n",
       "      <td>-17.113392</td>\n",
       "      <td>-141.457819</td>\n",
       "      <td>53.246627</td>\n",
       "      <td>5.939751</td>\n",
       "      <td>5.631022</td>\n",
       "      <td>543.441438</td>\n",
       "      <td>-302.081360</td>\n",
       "      <td>21.861266</td>\n",
       "      <td>66725.53006</td>\n",
       "      <td>34.796947</td>\n",
       "      <td>13.834198</td>\n",
       "      <td>4.743589</td>\n",
       "      <td>5376.558510</td>\n",
       "      <td>119.269139</td>\n",
       "      <td>19.826086</td>\n",
       "      <td>39.903060</td>\n",
       "      <td>311.541001</td>\n",
       "      <td>12.573611</td>\n",
       "      <td>263.709173</td>\n",
       "      <td>-4.329967</td>\n",
       "    </tr>\n",
       "  </tbody>\n",
       "</table>\n",
       "</div>"
      ],
      "text/plain": [
       "          x1          x2         x3        x4        x5           x6  \\\n",
       "0 -14.880285 -413.657030  17.037929  5.627481  6.262187   704.164878   \n",
       "1 -13.987087 -235.197680  53.670585  4.743702  4.670301  1226.941573   \n",
       "2 -11.764850 -192.880170  38.687566  5.606648  4.147060   940.690132   \n",
       "3 -10.790193 -204.849932  50.837951  5.934410  5.310772   794.581702   \n",
       "4 -17.113392 -141.457819  53.246627  5.939751  5.631022   543.441438   \n",
       "\n",
       "           x7         x8           x9        x10        x11       x12  \\\n",
       "0 -269.815659  13.503896  60805.03782  31.065906   5.625478  5.150013   \n",
       "1 -184.656449   7.034055  55445.68723  15.189238  15.746002  3.880180   \n",
       "2 -182.564985  17.218596  31562.61815  34.769586  12.766144  4.885215   \n",
       "3 -245.911853   9.936746  47299.76010  25.565751  14.068207  7.156563   \n",
       "4 -302.081360  21.861266  66725.53006  34.796947  13.834198  4.743589   \n",
       "\n",
       "           x13         x14        x15        x16         x17        x18  \\\n",
       "0  6282.637653  174.281276  19.959450  32.278906  206.323118   8.337124   \n",
       "1  3759.028105   32.216142  17.054081  35.934156  191.790254  10.985527   \n",
       "2  6722.719526  181.736690  20.479688  33.809666  166.718488   7.087623   \n",
       "3  5651.188202  127.570137  20.904829  49.857911  139.872041   9.597151   \n",
       "4  5376.558510  119.269139  19.826086  39.903060  311.541001  12.573611   \n",
       "\n",
       "          x19       x20  \n",
       "0  232.140628 -5.120450  \n",
       "1  267.024627 -5.200961  \n",
       "2  115.762593 -6.080712  \n",
       "3  213.574163 -6.355565  \n",
       "4  263.709173 -4.329967  "
      ]
     },
     "execution_count": 9,
     "metadata": {},
     "output_type": "execute_result"
    }
   ],
   "source": [
    "df_test = pd.read_csv('/kaggle/input/dads6003-in-class-competition/test.csv')\n",
    "df_test.head()"
   ]
  },
  {
   "cell_type": "code",
   "execution_count": 10,
   "id": "2bcc953e",
   "metadata": {
    "execution": {
     "iopub.execute_input": "2022-06-12T17:26:01.669685Z",
     "iopub.status.busy": "2022-06-12T17:26:01.669023Z",
     "iopub.status.idle": "2022-06-12T17:26:01.839290Z",
     "shell.execute_reply": "2022-06-12T17:26:01.839793Z",
     "shell.execute_reply.started": "2022-06-12T17:24:34.263676Z"
    },
    "papermill": {
     "duration": 0.21211,
     "end_time": "2022-06-12T17:26:01.839980",
     "exception": false,
     "start_time": "2022-06-12T17:26:01.627870",
     "status": "completed"
    },
    "tags": []
   },
   "outputs": [
    {
     "name": "stdout",
     "output_type": "stream",
     "text": [
      "<class 'pandas.core.frame.DataFrame'>\n",
      "RangeIndex: 2500 entries, 0 to 2499\n",
      "Data columns (total 20 columns):\n",
      " #   Column  Non-Null Count  Dtype  \n",
      "---  ------  --------------  -----  \n",
      " 0   x1      2500 non-null   float64\n",
      " 1   x2      2500 non-null   float64\n",
      " 2   x3      2500 non-null   float64\n",
      " 3   x4      2500 non-null   float64\n",
      " 4   x5      2500 non-null   float64\n",
      " 5   x6      2500 non-null   float64\n",
      " 6   x7      2500 non-null   float64\n",
      " 7   x8      2500 non-null   float64\n",
      " 8   x9      2500 non-null   float64\n",
      " 9   x10     2500 non-null   float64\n",
      " 10  x11     2500 non-null   float64\n",
      " 11  x12     2500 non-null   float64\n",
      " 12  x13     2500 non-null   float64\n",
      " 13  x14     2500 non-null   float64\n",
      " 14  x15     2500 non-null   float64\n",
      " 15  x16     2500 non-null   float64\n",
      " 16  x17     2500 non-null   float64\n",
      " 17  x18     2500 non-null   float64\n",
      " 18  x19     2500 non-null   float64\n",
      " 19  x20     2500 non-null   float64\n",
      "dtypes: float64(20)\n",
      "memory usage: 390.8 KB\n"
     ]
    }
   ],
   "source": [
    "df_test.info()"
   ]
  },
  {
   "cell_type": "code",
   "execution_count": 11,
   "id": "0de45663",
   "metadata": {
    "execution": {
     "iopub.execute_input": "2022-06-12T17:26:01.912912Z",
     "iopub.status.busy": "2022-06-12T17:26:01.911914Z",
     "iopub.status.idle": "2022-06-12T17:26:01.919743Z",
     "shell.execute_reply": "2022-06-12T17:26:01.920230Z",
     "shell.execute_reply.started": "2022-06-12T17:24:34.281426Z"
    },
    "papermill": {
     "duration": 0.046106,
     "end_time": "2022-06-12T17:26:01.920414",
     "exception": false,
     "start_time": "2022-06-12T17:26:01.874308",
     "status": "completed"
    },
    "tags": []
   },
   "outputs": [
    {
     "name": "stdout",
     "output_type": "stream",
     "text": [
      "Feature  NaN x1     0\n",
      "x2     0\n",
      "x3     0\n",
      "x4     0\n",
      "x5     0\n",
      "x6     0\n",
      "x7     0\n",
      "x8     0\n",
      "x9     0\n",
      "x10    0\n",
      "x11    0\n",
      "x12    0\n",
      "x13    0\n",
      "x14    0\n",
      "x15    0\n",
      "x16    0\n",
      "x17    0\n",
      "x18    0\n",
      "x19    0\n",
      "x20    0\n",
      "dtype: int64\n"
     ]
    }
   ],
   "source": [
    "count_nan_test = df_test[['x'+str(i) for i in range(1,21)]].isnull().sum()\n",
    "print('Feature  NaN',count_nan_test)"
   ]
  },
  {
   "cell_type": "code",
   "execution_count": 12,
   "id": "d7efd0a4",
   "metadata": {
    "execution": {
     "iopub.execute_input": "2022-06-12T17:26:01.996053Z",
     "iopub.status.busy": "2022-06-12T17:26:01.995055Z",
     "iopub.status.idle": "2022-06-12T17:26:03.111771Z",
     "shell.execute_reply": "2022-06-12T17:26:03.112341Z",
     "shell.execute_reply.started": "2022-06-12T17:24:34.292982Z"
    },
    "papermill": {
     "duration": 1.155996,
     "end_time": "2022-06-12T17:26:03.112520",
     "exception": false,
     "start_time": "2022-06-12T17:26:01.956524",
     "status": "completed"
    },
    "tags": []
   },
   "outputs": [
    {
     "data": {
      "text/html": [
       "<div>\n",
       "<style scoped>\n",
       "    .dataframe tbody tr th:only-of-type {\n",
       "        vertical-align: middle;\n",
       "    }\n",
       "\n",
       "    .dataframe tbody tr th {\n",
       "        vertical-align: top;\n",
       "    }\n",
       "\n",
       "    .dataframe thead th {\n",
       "        text-align: right;\n",
       "    }\n",
       "</style>\n",
       "<table border=\"1\" class=\"dataframe\">\n",
       "  <thead>\n",
       "    <tr style=\"text-align: right;\">\n",
       "      <th></th>\n",
       "      <th>x1</th>\n",
       "      <th>x2</th>\n",
       "      <th>x3</th>\n",
       "      <th>x4</th>\n",
       "      <th>x5</th>\n",
       "      <th>x6</th>\n",
       "      <th>x7</th>\n",
       "      <th>x8</th>\n",
       "      <th>x9</th>\n",
       "      <th>x10</th>\n",
       "      <th>...</th>\n",
       "      <th>x12</th>\n",
       "      <th>x13</th>\n",
       "      <th>x14</th>\n",
       "      <th>x15</th>\n",
       "      <th>x16</th>\n",
       "      <th>x17</th>\n",
       "      <th>x18</th>\n",
       "      <th>x19</th>\n",
       "      <th>x20</th>\n",
       "      <th>y</th>\n",
       "    </tr>\n",
       "  </thead>\n",
       "  <tbody>\n",
       "    <tr>\n",
       "      <th>0</th>\n",
       "      <td>1.421080</td>\n",
       "      <td>0.693875</td>\n",
       "      <td>0.905046</td>\n",
       "      <td>0.857595</td>\n",
       "      <td>1.445430</td>\n",
       "      <td>0.110570</td>\n",
       "      <td>-1.404288</td>\n",
       "      <td>0.290635</td>\n",
       "      <td>2.422297</td>\n",
       "      <td>0.899619</td>\n",
       "      <td>...</td>\n",
       "      <td>-1.572066</td>\n",
       "      <td>-0.451651</td>\n",
       "      <td>-1.636288</td>\n",
       "      <td>-0.985627</td>\n",
       "      <td>0.300578</td>\n",
       "      <td>0.363244</td>\n",
       "      <td>-0.031862</td>\n",
       "      <td>-1.179933</td>\n",
       "      <td>0.442582</td>\n",
       "      <td>0</td>\n",
       "    </tr>\n",
       "    <tr>\n",
       "      <th>1</th>\n",
       "      <td>1.210338</td>\n",
       "      <td>0.586143</td>\n",
       "      <td>1.154253</td>\n",
       "      <td>-0.051377</td>\n",
       "      <td>1.025267</td>\n",
       "      <td>-0.616569</td>\n",
       "      <td>1.666149</td>\n",
       "      <td>-0.183265</td>\n",
       "      <td>0.078349</td>\n",
       "      <td>0.422666</td>\n",
       "      <td>...</td>\n",
       "      <td>1.279989</td>\n",
       "      <td>0.767996</td>\n",
       "      <td>0.134102</td>\n",
       "      <td>0.551891</td>\n",
       "      <td>-0.307939</td>\n",
       "      <td>-0.180570</td>\n",
       "      <td>0.151627</td>\n",
       "      <td>-1.874197</td>\n",
       "      <td>0.664238</td>\n",
       "      <td>0</td>\n",
       "    </tr>\n",
       "    <tr>\n",
       "      <th>2</th>\n",
       "      <td>-1.361650</td>\n",
       "      <td>-0.483681</td>\n",
       "      <td>-0.044967</td>\n",
       "      <td>0.168275</td>\n",
       "      <td>0.572073</td>\n",
       "      <td>0.670209</td>\n",
       "      <td>-0.399643</td>\n",
       "      <td>0.055545</td>\n",
       "      <td>-0.901919</td>\n",
       "      <td>-0.751635</td>\n",
       "      <td>...</td>\n",
       "      <td>0.695562</td>\n",
       "      <td>0.389903</td>\n",
       "      <td>0.489540</td>\n",
       "      <td>0.073583</td>\n",
       "      <td>-1.027800</td>\n",
       "      <td>-0.125893</td>\n",
       "      <td>-0.195304</td>\n",
       "      <td>-2.081726</td>\n",
       "      <td>-0.309474</td>\n",
       "      <td>1</td>\n",
       "    </tr>\n",
       "    <tr>\n",
       "      <th>4</th>\n",
       "      <td>1.156248</td>\n",
       "      <td>-1.421908</td>\n",
       "      <td>-0.424651</td>\n",
       "      <td>1.190484</td>\n",
       "      <td>0.530169</td>\n",
       "      <td>-0.449368</td>\n",
       "      <td>0.666455</td>\n",
       "      <td>-0.259089</td>\n",
       "      <td>0.383955</td>\n",
       "      <td>1.184731</td>\n",
       "      <td>...</td>\n",
       "      <td>0.765524</td>\n",
       "      <td>1.185656</td>\n",
       "      <td>-1.752895</td>\n",
       "      <td>-0.074371</td>\n",
       "      <td>1.476068</td>\n",
       "      <td>0.059328</td>\n",
       "      <td>1.316550</td>\n",
       "      <td>-0.233375</td>\n",
       "      <td>0.129713</td>\n",
       "      <td>1</td>\n",
       "    </tr>\n",
       "    <tr>\n",
       "      <th>5</th>\n",
       "      <td>1.674116</td>\n",
       "      <td>0.086464</td>\n",
       "      <td>-0.113227</td>\n",
       "      <td>-0.297359</td>\n",
       "      <td>-0.388915</td>\n",
       "      <td>-0.430375</td>\n",
       "      <td>-1.894802</td>\n",
       "      <td>0.006669</td>\n",
       "      <td>1.242844</td>\n",
       "      <td>-0.698647</td>\n",
       "      <td>...</td>\n",
       "      <td>-0.194710</td>\n",
       "      <td>1.632567</td>\n",
       "      <td>-1.315471</td>\n",
       "      <td>-0.416705</td>\n",
       "      <td>1.706256</td>\n",
       "      <td>0.451350</td>\n",
       "      <td>0.166036</td>\n",
       "      <td>-1.416974</td>\n",
       "      <td>-0.966077</td>\n",
       "      <td>0</td>\n",
       "    </tr>\n",
       "  </tbody>\n",
       "</table>\n",
       "<p>5 rows × 21 columns</p>\n",
       "</div>"
      ],
      "text/plain": [
       "         x1        x2        x3        x4        x5        x6        x7  \\\n",
       "0  1.421080  0.693875  0.905046  0.857595  1.445430  0.110570 -1.404288   \n",
       "1  1.210338  0.586143  1.154253 -0.051377  1.025267 -0.616569  1.666149   \n",
       "2 -1.361650 -0.483681 -0.044967  0.168275  0.572073  0.670209 -0.399643   \n",
       "4  1.156248 -1.421908 -0.424651  1.190484  0.530169 -0.449368  0.666455   \n",
       "5  1.674116  0.086464 -0.113227 -0.297359 -0.388915 -0.430375 -1.894802   \n",
       "\n",
       "         x8        x9       x10  ...       x12       x13       x14       x15  \\\n",
       "0  0.290635  2.422297  0.899619  ... -1.572066 -0.451651 -1.636288 -0.985627   \n",
       "1 -0.183265  0.078349  0.422666  ...  1.279989  0.767996  0.134102  0.551891   \n",
       "2  0.055545 -0.901919 -0.751635  ...  0.695562  0.389903  0.489540  0.073583   \n",
       "4 -0.259089  0.383955  1.184731  ...  0.765524  1.185656 -1.752895 -0.074371   \n",
       "5  0.006669  1.242844 -0.698647  ... -0.194710  1.632567 -1.315471 -0.416705   \n",
       "\n",
       "        x16       x17       x18       x19       x20  y  \n",
       "0  0.300578  0.363244 -0.031862 -1.179933  0.442582  0  \n",
       "1 -0.307939 -0.180570  0.151627 -1.874197  0.664238  0  \n",
       "2 -1.027800 -0.125893 -0.195304 -2.081726 -0.309474  1  \n",
       "4  1.476068  0.059328  1.316550 -0.233375  0.129713  1  \n",
       "5  1.706256  0.451350  0.166036 -1.416974 -0.966077  0  \n",
       "\n",
       "[5 rows x 21 columns]"
      ]
     },
     "execution_count": 12,
     "metadata": {},
     "output_type": "execute_result"
    }
   ],
   "source": [
    "from sklearn.preprocessing import StandardScaler\n",
    "\n",
    "scaled_features = train.copy()\n",
    "col_names = ['x'+str(i) for i in range(1,21)]\n",
    "features = scaled_features[col_names]\n",
    "scaler = StandardScaler().fit(features.values)\n",
    "features = scaler.transform(features.values)\n",
    "\n",
    "\n",
    "scaled_features[col_names] = features\n",
    "scaled_features.head()\n",
    "\n",
    "#Normalize"
   ]
  },
  {
   "cell_type": "code",
   "execution_count": 13,
   "id": "ccc38456",
   "metadata": {
    "execution": {
     "iopub.execute_input": "2022-06-12T17:26:03.193495Z",
     "iopub.status.busy": "2022-06-12T17:26:03.188471Z",
     "iopub.status.idle": "2022-06-12T17:26:03.265070Z",
     "shell.execute_reply": "2022-06-12T17:26:03.264082Z",
     "shell.execute_reply.started": "2022-06-12T17:24:35.306915Z"
    },
    "papermill": {
     "duration": 0.116993,
     "end_time": "2022-06-12T17:26:03.265283",
     "exception": false,
     "start_time": "2022-06-12T17:26:03.148290",
     "status": "completed"
    },
    "tags": []
   },
   "outputs": [
    {
     "data": {
      "text/html": [
       "<div>\n",
       "<style scoped>\n",
       "    .dataframe tbody tr th:only-of-type {\n",
       "        vertical-align: middle;\n",
       "    }\n",
       "\n",
       "    .dataframe tbody tr th {\n",
       "        vertical-align: top;\n",
       "    }\n",
       "\n",
       "    .dataframe thead th {\n",
       "        text-align: right;\n",
       "    }\n",
       "</style>\n",
       "<table border=\"1\" class=\"dataframe\">\n",
       "  <thead>\n",
       "    <tr style=\"text-align: right;\">\n",
       "      <th></th>\n",
       "      <th>x1</th>\n",
       "      <th>x2</th>\n",
       "      <th>x3</th>\n",
       "      <th>x4</th>\n",
       "      <th>x5</th>\n",
       "      <th>x6</th>\n",
       "      <th>x7</th>\n",
       "      <th>x8</th>\n",
       "      <th>x9</th>\n",
       "      <th>x10</th>\n",
       "      <th>...</th>\n",
       "      <th>x12</th>\n",
       "      <th>x13</th>\n",
       "      <th>x14</th>\n",
       "      <th>x15</th>\n",
       "      <th>x16</th>\n",
       "      <th>x17</th>\n",
       "      <th>x18</th>\n",
       "      <th>x19</th>\n",
       "      <th>x20</th>\n",
       "      <th>y</th>\n",
       "    </tr>\n",
       "  </thead>\n",
       "  <tbody>\n",
       "    <tr>\n",
       "      <th>count</th>\n",
       "      <td>5.985000e+03</td>\n",
       "      <td>5.985000e+03</td>\n",
       "      <td>5.985000e+03</td>\n",
       "      <td>5.985000e+03</td>\n",
       "      <td>5.985000e+03</td>\n",
       "      <td>5.985000e+03</td>\n",
       "      <td>5.985000e+03</td>\n",
       "      <td>5.985000e+03</td>\n",
       "      <td>5.985000e+03</td>\n",
       "      <td>5.985000e+03</td>\n",
       "      <td>...</td>\n",
       "      <td>5.985000e+03</td>\n",
       "      <td>5.985000e+03</td>\n",
       "      <td>5.985000e+03</td>\n",
       "      <td>5.985000e+03</td>\n",
       "      <td>5.985000e+03</td>\n",
       "      <td>5.985000e+03</td>\n",
       "      <td>5.985000e+03</td>\n",
       "      <td>5.985000e+03</td>\n",
       "      <td>5.985000e+03</td>\n",
       "      <td>5985.000000</td>\n",
       "    </tr>\n",
       "    <tr>\n",
       "      <th>mean</th>\n",
       "      <td>-5.742367e-16</td>\n",
       "      <td>1.943679e-16</td>\n",
       "      <td>-6.333002e-17</td>\n",
       "      <td>3.585733e-17</td>\n",
       "      <td>7.598674e-16</td>\n",
       "      <td>-1.557234e-16</td>\n",
       "      <td>-1.155300e-16</td>\n",
       "      <td>-1.924016e-16</td>\n",
       "      <td>-8.291891e-18</td>\n",
       "      <td>5.143059e-16</td>\n",
       "      <td>...</td>\n",
       "      <td>1.938369e-17</td>\n",
       "      <td>2.815997e-16</td>\n",
       "      <td>2.043803e-16</td>\n",
       "      <td>-3.944213e-18</td>\n",
       "      <td>-1.037321e-16</td>\n",
       "      <td>-4.279776e-16</td>\n",
       "      <td>9.982268e-17</td>\n",
       "      <td>5.804788e-17</td>\n",
       "      <td>-3.898487e-16</td>\n",
       "      <td>0.256307</td>\n",
       "    </tr>\n",
       "    <tr>\n",
       "      <th>std</th>\n",
       "      <td>1.000084e+00</td>\n",
       "      <td>1.000084e+00</td>\n",
       "      <td>1.000084e+00</td>\n",
       "      <td>1.000084e+00</td>\n",
       "      <td>1.000084e+00</td>\n",
       "      <td>1.000084e+00</td>\n",
       "      <td>1.000084e+00</td>\n",
       "      <td>1.000084e+00</td>\n",
       "      <td>1.000084e+00</td>\n",
       "      <td>1.000084e+00</td>\n",
       "      <td>...</td>\n",
       "      <td>1.000084e+00</td>\n",
       "      <td>1.000084e+00</td>\n",
       "      <td>1.000084e+00</td>\n",
       "      <td>1.000084e+00</td>\n",
       "      <td>1.000084e+00</td>\n",
       "      <td>1.000084e+00</td>\n",
       "      <td>1.000084e+00</td>\n",
       "      <td>1.000084e+00</td>\n",
       "      <td>1.000084e+00</td>\n",
       "      <td>0.436630</td>\n",
       "    </tr>\n",
       "    <tr>\n",
       "      <th>min</th>\n",
       "      <td>-3.719408e+00</td>\n",
       "      <td>-4.709628e+00</td>\n",
       "      <td>-3.572623e+00</td>\n",
       "      <td>-4.344421e+00</td>\n",
       "      <td>-4.520008e+00</td>\n",
       "      <td>-3.734089e+00</td>\n",
       "      <td>-3.707501e+00</td>\n",
       "      <td>-4.690081e+00</td>\n",
       "      <td>-3.710898e+00</td>\n",
       "      <td>-3.709656e+00</td>\n",
       "      <td>...</td>\n",
       "      <td>-3.905450e+00</td>\n",
       "      <td>-3.811593e+00</td>\n",
       "      <td>-4.169682e+00</td>\n",
       "      <td>-4.365233e+00</td>\n",
       "      <td>-3.470318e+00</td>\n",
       "      <td>-4.121832e+00</td>\n",
       "      <td>-3.857231e+00</td>\n",
       "      <td>-3.944363e+00</td>\n",
       "      <td>-3.598973e+00</td>\n",
       "      <td>0.000000</td>\n",
       "    </tr>\n",
       "    <tr>\n",
       "      <th>25%</th>\n",
       "      <td>-6.705409e-01</td>\n",
       "      <td>-5.360433e-01</td>\n",
       "      <td>-6.649470e-01</td>\n",
       "      <td>-6.769608e-01</td>\n",
       "      <td>-6.775765e-01</td>\n",
       "      <td>-6.764023e-01</td>\n",
       "      <td>-6.668268e-01</td>\n",
       "      <td>-6.714104e-01</td>\n",
       "      <td>-6.552378e-01</td>\n",
       "      <td>-6.707274e-01</td>\n",
       "      <td>...</td>\n",
       "      <td>-6.654406e-01</td>\n",
       "      <td>-6.763565e-01</td>\n",
       "      <td>-6.851537e-01</td>\n",
       "      <td>-6.214709e-01</td>\n",
       "      <td>-6.754955e-01</td>\n",
       "      <td>-6.722963e-01</td>\n",
       "      <td>-6.608086e-01</td>\n",
       "      <td>-6.761478e-01</td>\n",
       "      <td>-6.792129e-01</td>\n",
       "      <td>0.000000</td>\n",
       "    </tr>\n",
       "    <tr>\n",
       "      <th>50%</th>\n",
       "      <td>6.721238e-03</td>\n",
       "      <td>1.068052e-01</td>\n",
       "      <td>3.934251e-02</td>\n",
       "      <td>1.397196e-02</td>\n",
       "      <td>6.682105e-03</td>\n",
       "      <td>-1.343814e-02</td>\n",
       "      <td>2.374764e-02</td>\n",
       "      <td>1.228822e-02</td>\n",
       "      <td>3.071133e-02</td>\n",
       "      <td>-1.722309e-02</td>\n",
       "      <td>...</td>\n",
       "      <td>1.407769e-02</td>\n",
       "      <td>1.080771e-02</td>\n",
       "      <td>3.016516e-03</td>\n",
       "      <td>5.074375e-02</td>\n",
       "      <td>1.526136e-02</td>\n",
       "      <td>6.694128e-03</td>\n",
       "      <td>-9.213903e-03</td>\n",
       "      <td>-1.045291e-02</td>\n",
       "      <td>-6.625789e-04</td>\n",
       "      <td>0.000000</td>\n",
       "    </tr>\n",
       "    <tr>\n",
       "      <th>75%</th>\n",
       "      <td>6.755434e-01</td>\n",
       "      <td>6.794420e-01</td>\n",
       "      <td>6.855006e-01</td>\n",
       "      <td>6.783668e-01</td>\n",
       "      <td>6.791926e-01</td>\n",
       "      <td>6.582180e-01</td>\n",
       "      <td>6.761320e-01</td>\n",
       "      <td>6.662181e-01</td>\n",
       "      <td>6.869323e-01</td>\n",
       "      <td>6.678468e-01</td>\n",
       "      <td>...</td>\n",
       "      <td>6.578865e-01</td>\n",
       "      <td>6.665341e-01</td>\n",
       "      <td>6.756587e-01</td>\n",
       "      <td>6.962924e-01</td>\n",
       "      <td>6.833498e-01</td>\n",
       "      <td>6.651710e-01</td>\n",
       "      <td>6.739365e-01</td>\n",
       "      <td>6.838168e-01</td>\n",
       "      <td>6.596517e-01</td>\n",
       "      <td>1.000000</td>\n",
       "    </tr>\n",
       "    <tr>\n",
       "      <th>max</th>\n",
       "      <td>3.741354e+00</td>\n",
       "      <td>3.099488e+00</td>\n",
       "      <td>3.389946e+00</td>\n",
       "      <td>3.488627e+00</td>\n",
       "      <td>3.625663e+00</td>\n",
       "      <td>3.510319e+00</td>\n",
       "      <td>4.386530e+00</td>\n",
       "      <td>3.893364e+00</td>\n",
       "      <td>3.138461e+00</td>\n",
       "      <td>3.396369e+00</td>\n",
       "      <td>...</td>\n",
       "      <td>4.369570e+00</td>\n",
       "      <td>4.007184e+00</td>\n",
       "      <td>3.326501e+00</td>\n",
       "      <td>3.409975e+00</td>\n",
       "      <td>3.587491e+00</td>\n",
       "      <td>3.615707e+00</td>\n",
       "      <td>4.353964e+00</td>\n",
       "      <td>3.831172e+00</td>\n",
       "      <td>3.344608e+00</td>\n",
       "      <td>1.000000</td>\n",
       "    </tr>\n",
       "  </tbody>\n",
       "</table>\n",
       "<p>8 rows × 21 columns</p>\n",
       "</div>"
      ],
      "text/plain": [
       "                 x1            x2            x3            x4            x5  \\\n",
       "count  5.985000e+03  5.985000e+03  5.985000e+03  5.985000e+03  5.985000e+03   \n",
       "mean  -5.742367e-16  1.943679e-16 -6.333002e-17  3.585733e-17  7.598674e-16   \n",
       "std    1.000084e+00  1.000084e+00  1.000084e+00  1.000084e+00  1.000084e+00   \n",
       "min   -3.719408e+00 -4.709628e+00 -3.572623e+00 -4.344421e+00 -4.520008e+00   \n",
       "25%   -6.705409e-01 -5.360433e-01 -6.649470e-01 -6.769608e-01 -6.775765e-01   \n",
       "50%    6.721238e-03  1.068052e-01  3.934251e-02  1.397196e-02  6.682105e-03   \n",
       "75%    6.755434e-01  6.794420e-01  6.855006e-01  6.783668e-01  6.791926e-01   \n",
       "max    3.741354e+00  3.099488e+00  3.389946e+00  3.488627e+00  3.625663e+00   \n",
       "\n",
       "                 x6            x7            x8            x9           x10  \\\n",
       "count  5.985000e+03  5.985000e+03  5.985000e+03  5.985000e+03  5.985000e+03   \n",
       "mean  -1.557234e-16 -1.155300e-16 -1.924016e-16 -8.291891e-18  5.143059e-16   \n",
       "std    1.000084e+00  1.000084e+00  1.000084e+00  1.000084e+00  1.000084e+00   \n",
       "min   -3.734089e+00 -3.707501e+00 -4.690081e+00 -3.710898e+00 -3.709656e+00   \n",
       "25%   -6.764023e-01 -6.668268e-01 -6.714104e-01 -6.552378e-01 -6.707274e-01   \n",
       "50%   -1.343814e-02  2.374764e-02  1.228822e-02  3.071133e-02 -1.722309e-02   \n",
       "75%    6.582180e-01  6.761320e-01  6.662181e-01  6.869323e-01  6.678468e-01   \n",
       "max    3.510319e+00  4.386530e+00  3.893364e+00  3.138461e+00  3.396369e+00   \n",
       "\n",
       "       ...           x12           x13           x14           x15  \\\n",
       "count  ...  5.985000e+03  5.985000e+03  5.985000e+03  5.985000e+03   \n",
       "mean   ...  1.938369e-17  2.815997e-16  2.043803e-16 -3.944213e-18   \n",
       "std    ...  1.000084e+00  1.000084e+00  1.000084e+00  1.000084e+00   \n",
       "min    ... -3.905450e+00 -3.811593e+00 -4.169682e+00 -4.365233e+00   \n",
       "25%    ... -6.654406e-01 -6.763565e-01 -6.851537e-01 -6.214709e-01   \n",
       "50%    ...  1.407769e-02  1.080771e-02  3.016516e-03  5.074375e-02   \n",
       "75%    ...  6.578865e-01  6.665341e-01  6.756587e-01  6.962924e-01   \n",
       "max    ...  4.369570e+00  4.007184e+00  3.326501e+00  3.409975e+00   \n",
       "\n",
       "                x16           x17           x18           x19           x20  \\\n",
       "count  5.985000e+03  5.985000e+03  5.985000e+03  5.985000e+03  5.985000e+03   \n",
       "mean  -1.037321e-16 -4.279776e-16  9.982268e-17  5.804788e-17 -3.898487e-16   \n",
       "std    1.000084e+00  1.000084e+00  1.000084e+00  1.000084e+00  1.000084e+00   \n",
       "min   -3.470318e+00 -4.121832e+00 -3.857231e+00 -3.944363e+00 -3.598973e+00   \n",
       "25%   -6.754955e-01 -6.722963e-01 -6.608086e-01 -6.761478e-01 -6.792129e-01   \n",
       "50%    1.526136e-02  6.694128e-03 -9.213903e-03 -1.045291e-02 -6.625789e-04   \n",
       "75%    6.833498e-01  6.651710e-01  6.739365e-01  6.838168e-01  6.596517e-01   \n",
       "max    3.587491e+00  3.615707e+00  4.353964e+00  3.831172e+00  3.344608e+00   \n",
       "\n",
       "                 y  \n",
       "count  5985.000000  \n",
       "mean      0.256307  \n",
       "std       0.436630  \n",
       "min       0.000000  \n",
       "25%       0.000000  \n",
       "50%       0.000000  \n",
       "75%       1.000000  \n",
       "max       1.000000  \n",
       "\n",
       "[8 rows x 21 columns]"
      ]
     },
     "execution_count": 13,
     "metadata": {},
     "output_type": "execute_result"
    }
   ],
   "source": [
    "scaled_features.describe()"
   ]
  },
  {
   "cell_type": "code",
   "execution_count": 14,
   "id": "efec7819",
   "metadata": {
    "execution": {
     "iopub.execute_input": "2022-06-12T17:26:03.345184Z",
     "iopub.status.busy": "2022-06-12T17:26:03.344409Z",
     "iopub.status.idle": "2022-06-12T17:26:07.895504Z",
     "shell.execute_reply": "2022-06-12T17:26:07.894989Z",
     "shell.execute_reply.started": "2022-06-12T17:24:35.386762Z"
    },
    "papermill": {
     "duration": 4.592548,
     "end_time": "2022-06-12T17:26:07.895679",
     "exception": false,
     "start_time": "2022-06-12T17:26:03.303131",
     "status": "completed"
    },
    "tags": []
   },
   "outputs": [
    {
     "name": "stderr",
     "output_type": "stream",
     "text": [
      "/opt/conda/lib/python3.7/site-packages/ipykernel_launcher.py:6: RuntimeWarning: More than 20 figures have been opened. Figures created through the pyplot interface (`matplotlib.pyplot.figure`) are retained until explicitly closed and may consume too much memory. (To control this warning, see the rcParam `figure.max_open_warning`).\n",
      "  \n"
     ]
    },
    {
     "data": {
      "image/png": "[encoded data removed]",
      "text/plain": [
       "<Figure size 352.8x352.8 with 1 Axes>"
      ]
     },
     "metadata": {
      "needs_background": "light"
     },
     "output_type": "display_data"
    },
    {
     "data": {
      "image/png": "[encoded data removed]",
      "text/plain": [
       "<Figure size 352.8x352.8 with 1 Axes>"
      ]
     },
     "metadata": {
      "needs_background": "light"
     },
     "output_type": "display_data"
    },
    {
     "data": {
      "image/png": "[encoded data removed]",
      "text/plain": [
       "<Figure size 352.8x352.8 with 1 Axes>"
      ]
     },
     "metadata": {
      "needs_background": "light"
     },
     "output_type": "display_data"
    },
    {
     "data": {
      "image/png": "[encoded data removed]",
      "text/plain": [
       "<Figure size 352.8x352.8 with 1 Axes>"
      ]
     },
     "metadata": {
      "needs_background": "light"
     },
     "output_type": "display_data"
    },
    {
     "data": {
      "image/png": "[encoded data removed]",
      "text/plain": [
       "<Figure size 352.8x352.8 with 1 Axes>"
      ]
     },
     "metadata": {
      "needs_background": "light"
     },
     "output_type": "display_data"
    },
    {
     "data": {
      "image/png": "[encoded data removed]",
      "text/plain": [
       "<Figure size 352.8x352.8 with 1 Axes>"
      ]
     },
     "metadata": {
      "needs_background": "light"
     },
     "output_type": "display_data"
    },
    {
     "data": {
      "image/png": "[encoded data removed]",
      "text/plain": [
       "<Figure size 352.8x352.8 with 1 Axes>"
      ]
     },
     "metadata": {
      "needs_background": "light"
     },
     "output_type": "display_data"
    },
    {
     "data": {
      "image/png": "[encoded data removed]",
      "text/plain": [
       "<Figure size 352.8x352.8 with 1 Axes>"
      ]
     },
     "metadata": {
      "needs_background": "light"
     },
     "output_type": "display_data"
    },
    {
     "data": {
      "image/png": "[encoded data removed]",
      "text/plain": [
       "<Figure size 352.8x352.8 with 1 Axes>"
      ]
     },
     "metadata": {
      "needs_background": "light"
     },
     "output_type": "display_data"
    },
    {
     "data": {
      "image/png": "[encoded data removed]",
      "text/plain": [
       "<Figure size 352.8x352.8 with 1 Axes>"
      ]
     },
     "metadata": {
      "needs_background": "light"
     },
     "output_type": "display_data"
    },
    {
     "data": {
      "image/png": "[encoded data removed]",
      "text/plain": [
       "<Figure size 352.8x352.8 with 1 Axes>"
      ]
     },
     "metadata": {
      "needs_background": "light"
     },
     "output_type": "display_data"
    },
    {
     "data": {
      "image/png": "[encoded data removed]",
      "text/plain": [
       "<Figure size 352.8x352.8 with 1 Axes>"
      ]
     },
     "metadata": {
      "needs_background": "light"
     },
     "output_type": "display_data"
    },
    {
     "data": {
      "image/png": "[encoded data removed]",
      "text/plain": [
       "<Figure size 352.8x352.8 with 1 Axes>"
      ]
     },
     "metadata": {
      "needs_background": "light"
     },
     "output_type": "display_data"
    },
    {
     "data": {
      "image/png": "[encoded data removed]",
      "text/plain": [
       "<Figure size 352.8x352.8 with 1 Axes>"
      ]
     },
     "metadata": {
      "needs_background": "light"
     },
     "output_type": "display_data"
    },
    {
     "data": {
      "image/png": "[encoded data removed]",
      "text/plain": [
       "<Figure size 352.8x352.8 with 1 Axes>"
      ]
     },
     "metadata": {
      "needs_background": "light"
     },
     "output_type": "display_data"
    },
    {
     "data": {
      "image/png": "[encoded data removed]",
      "text/plain": [
       "<Figure size 352.8x352.8 with 1 Axes>"
      ]
     },
     "metadata": {
      "needs_background": "light"
     },
     "output_type": "display_data"
    },
    {
     "data": {
      "image/png": "[encoded data removed]",
      "text/plain": [
       "<Figure size 352.8x352.8 with 1 Axes>"
      ]
     },
     "metadata": {
      "needs_background": "light"
     },
     "output_type": "display_data"
    },
    {
     "data": {
      "image/png": "[encoded data removed]",
      "text/plain": [
       "<Figure size 352.8x352.8 with 1 Axes>"
      ]
     },
     "metadata": {
      "needs_background": "light"
     },
     "output_type": "display_data"
    },
    {
     "data": {
      "image/png": "[encoded data removed]",
      "text/plain": [
       "<Figure size 352.8x352.8 with 1 Axes>"
      ]
     },
     "metadata": {
      "needs_background": "light"
     },
     "output_type": "display_data"
    },
    {
     "data": {
      "image/png": "[encoded data removed]",
      "text/plain": [
       "<Figure size 352.8x352.8 with 1 Axes>"
      ]
     },
     "metadata": {
      "needs_background": "light"
     },
     "output_type": "display_data"
    },
    {
     "data": {
      "image/png": "[encoded data removed]",
      "text/plain": [
       "<Figure size 352.8x352.8 with 1 Axes>"
      ]
     },
     "metadata": {
      "needs_background": "light"
     },
     "output_type": "display_data"
    }
   ],
   "source": [
    "import matplotlib.pyplot as plt\n",
    "import numpy as np\n",
    "from pandas.api.types import is_string_dtype, is_numeric_dtype\n",
    "\n",
    "for column in scaled_features:\n",
    "    plt.figure(column, figsize = (4.9,4.9))\n",
    "    plt.title(column)\n",
    "    if is_numeric_dtype(scaled_features[column]):\n",
    "        scaled_features[column].plot(kind = 'hist')\n",
    "    elif is_string_dtype(df[column]):\n",
    " # show only the TOP 10 value count in each categorical data\n",
    "        df[column].value_counts()[:10].plot(kind = 'bar')"
   ]
  },
  {
   "cell_type": "code",
   "execution_count": 15,
   "id": "70c48bdb",
   "metadata": {
    "execution": {
     "iopub.execute_input": "2022-06-12T17:26:08.012091Z",
     "iopub.status.busy": "2022-06-12T17:26:08.011376Z",
     "iopub.status.idle": "2022-06-12T17:26:09.724319Z",
     "shell.execute_reply": "2022-06-12T17:26:09.723687Z",
     "shell.execute_reply.started": "2022-06-12T17:24:39.680584Z"
    },
    "papermill": {
     "duration": 1.776319,
     "end_time": "2022-06-12T17:26:09.724480",
     "exception": false,
     "start_time": "2022-06-12T17:26:07.948161",
     "status": "completed"
    },
    "tags": []
   },
   "outputs": [
    {
     "name": "stdout",
     "output_type": "stream",
     "text": [
      "Num Features: 10\n",
      "Selected Features: [False  True  True False False  True  True  True  True  True False  True\n",
      " False  True  True False False False False False]\n",
      "Feature Ranking: [10  1  1  4  8  1  1  1  1  1 11  1  2  1  1  3  6  5  9  7]\n"
     ]
    }
   ],
   "source": [
    "from sklearn.feature_selection import RFE\n",
    "from sklearn.linear_model import LogisticRegression\n",
    "from sklearn.tree import DecisionTreeClassifier\n",
    "from sklearn.svm import SVR\n",
    "\n",
    "array = scaled_features.values\n",
    "X = array[:,0:20]\n",
    "Y = array[:,20]\n",
    "\n",
    "# Feature extraction\n",
    "model = DecisionTreeClassifier()\n",
    "rfe = RFE(model)\n",
    "fit = rfe.fit(X, Y)\n",
    "print(\"Num Features: %s\" % (fit.n_features_))\n",
    "print(\"Selected Features: %s\" % (fit.support_))\n",
    "print(\"Feature Ranking: %s\" % (fit.ranking_))"
   ]
  },
  {
   "cell_type": "markdown",
   "id": "bf9bc571",
   "metadata": {
    "papermill": {
     "duration": 0.051297,
     "end_time": "2022-06-12T17:26:09.829183",
     "exception": false,
     "start_time": "2022-06-12T17:26:09.777886",
     "status": "completed"
    },
    "tags": []
   },
   "source": [
    "Feature selection: x2  x3  x6  x7  x8  x9  x10 x12 x14  x15"
   ]
  },
  {
   "cell_type": "code",
   "execution_count": 16,
   "id": "bdc83053",
   "metadata": {
    "execution": {
     "iopub.execute_input": "2022-06-12T17:26:09.934443Z",
     "iopub.status.busy": "2022-06-12T17:26:09.933833Z",
     "iopub.status.idle": "2022-06-12T17:26:09.964040Z",
     "shell.execute_reply": "2022-06-12T17:26:09.964940Z",
     "shell.execute_reply.started": "2022-06-12T17:24:41.393209Z"
    },
    "papermill": {
     "duration": 0.085594,
     "end_time": "2022-06-12T17:26:09.965229",
     "exception": false,
     "start_time": "2022-06-12T17:26:09.879635",
     "status": "completed"
    },
    "tags": []
   },
   "outputs": [
    {
     "name": "stdout",
     "output_type": "stream",
     "text": [
      "Ridge model: 0.002 * X1 + -0.243 * X2 + -0.037 * X3 + 0.004 * X4 + -0.0 * X5 + 0.167 * X6 + 0.052 * X7 + 0.108 * X8 + -0.124 * X9 + 0.012 * X10 + 0.005 * X11 + 0.136 * X12 + 0.006 * X13 + -0.237 * X14 + -0.192 * X15 + -0.005 * X16 + 0.001 * X17 + -0.0 * X18 + -0.004 * X19 + 0.003 * X20\n"
     ]
    }
   ],
   "source": [
    "from sklearn.linear_model import Ridge\n",
    "ridge = Ridge(alpha=1.0)\n",
    "ridge.fit(X,Y)\n",
    "\n",
    "Ridge(alpha=1.0, copy_X=True, fit_intercept=True, max_iter=None,\n",
    "   normalize=False, random_state=None, solver='auto', tol=0.001)\n",
    "\n",
    "# A helper method for pretty-printing the coefficients\n",
    "def pretty_print_coefs(coefs, names = None, sort = False):\n",
    "    if names == None:\n",
    "        names = [\"X%s\" % x for x in range(1,len(coefs)+1)]\n",
    "    lst = zip(coefs, names)\n",
    "    if sort:\n",
    "        lst = sorted(lst,  key = lambda x:-np.abs(x[0]))\n",
    "    return \" + \".join(\"%s * %s\" % (round(coef, 3), name)\n",
    "                                   for coef, name in lst)\n",
    "print (\"Ridge model:\", pretty_print_coefs(ridge.coef_))"
   ]
  },
  {
   "cell_type": "code",
   "execution_count": 17,
   "id": "57614154",
   "metadata": {
    "execution": {
     "iopub.execute_input": "2022-06-12T17:26:10.128283Z",
     "iopub.status.busy": "2022-06-12T17:26:10.127654Z",
     "iopub.status.idle": "2022-06-12T17:26:29.788273Z",
     "shell.execute_reply": "2022-06-12T17:26:29.787348Z",
     "shell.execute_reply.started": "2022-06-12T17:24:41.430056Z"
    },
    "papermill": {
     "duration": 19.720585,
     "end_time": "2022-06-12T17:26:29.788515",
     "exception": false,
     "start_time": "2022-06-12T17:26:10.067930",
     "status": "completed"
    },
    "tags": []
   },
   "outputs": [
    {
     "name": "stdout",
     "output_type": "stream",
     "text": [
      "Neural Network\n",
      "Training set score: 0.995155\n"
     ]
    },
    {
     "name": "stderr",
     "output_type": "stream",
     "text": [
      "/opt/conda/lib/python3.7/site-packages/sklearn/neural_network/_multilayer_perceptron.py:696: ConvergenceWarning: Stochastic Optimizer: Maximum iterations (400) reached and the optimization hasn't converged yet.\n",
      "  ConvergenceWarning,\n"
     ]
    }
   ],
   "source": [
    "X=scaled_features[['x2','x3','x6','x7','x8','x9','x10','x12','x14','x15']].to_numpy()\n",
    "Y=scaled_features['y'].to_numpy()\n",
    "\n",
    "from sklearn.neural_network import MLPClassifier\n",
    "clf_log = MLPClassifier(random_state=2, max_iter=400)\n",
    "clf_log.fit(X, Y)\n",
    "\n",
    "\n",
    "#Model Evaluation\n",
    "print(\"Neural Network\")\n",
    "print(\"Training set score: %f\" % clf_log.score(X, Y))"
   ]
  },
  {
   "cell_type": "code",
   "execution_count": 18,
   "id": "43160c78",
   "metadata": {
    "execution": {
     "iopub.execute_input": "2022-06-12T17:26:29.956782Z",
     "iopub.status.busy": "2022-06-12T17:26:29.955582Z",
     "iopub.status.idle": "2022-06-12T17:26:29.977934Z",
     "shell.execute_reply": "2022-06-12T17:26:29.978426Z",
     "shell.execute_reply.started": "2022-06-12T17:25:04.180858Z"
    },
    "papermill": {
     "duration": 0.082252,
     "end_time": "2022-06-12T17:26:29.978610",
     "exception": false,
     "start_time": "2022-06-12T17:26:29.896358",
     "status": "completed"
    },
    "tags": []
   },
   "outputs": [
    {
     "data": {
      "text/html": [
       "<div>\n",
       "<style scoped>\n",
       "    .dataframe tbody tr th:only-of-type {\n",
       "        vertical-align: middle;\n",
       "    }\n",
       "\n",
       "    .dataframe tbody tr th {\n",
       "        vertical-align: top;\n",
       "    }\n",
       "\n",
       "    .dataframe thead th {\n",
       "        text-align: right;\n",
       "    }\n",
       "</style>\n",
       "<table border=\"1\" class=\"dataframe\">\n",
       "  <thead>\n",
       "    <tr style=\"text-align: right;\">\n",
       "      <th></th>\n",
       "      <th>x1</th>\n",
       "      <th>x2</th>\n",
       "      <th>x3</th>\n",
       "      <th>x4</th>\n",
       "      <th>x5</th>\n",
       "      <th>x6</th>\n",
       "      <th>x7</th>\n",
       "      <th>x8</th>\n",
       "      <th>x9</th>\n",
       "      <th>x10</th>\n",
       "      <th>x11</th>\n",
       "      <th>x12</th>\n",
       "      <th>x13</th>\n",
       "      <th>x14</th>\n",
       "      <th>x15</th>\n",
       "      <th>x16</th>\n",
       "      <th>x17</th>\n",
       "      <th>x18</th>\n",
       "      <th>x19</th>\n",
       "      <th>x20</th>\n",
       "    </tr>\n",
       "  </thead>\n",
       "  <tbody>\n",
       "    <tr>\n",
       "      <th>0</th>\n",
       "      <td>0.046451</td>\n",
       "      <td>-2.225275</td>\n",
       "      <td>-1.823140</td>\n",
       "      <td>0.652070</td>\n",
       "      <td>1.257310</td>\n",
       "      <td>-0.194679</td>\n",
       "      <td>0.304902</td>\n",
       "      <td>-0.883773</td>\n",
       "      <td>0.319061</td>\n",
       "      <td>0.141315</td>\n",
       "      <td>-2.707939</td>\n",
       "      <td>0.656691</td>\n",
       "      <td>1.323474</td>\n",
       "      <td>1.643752</td>\n",
       "      <td>0.601550</td>\n",
       "      <td>-0.971904</td>\n",
       "      <td>0.162820</td>\n",
       "      <td>-0.847057</td>\n",
       "      <td>-0.441616</td>\n",
       "      <td>-0.154150</td>\n",
       "    </tr>\n",
       "    <tr>\n",
       "      <th>1</th>\n",
       "      <td>0.345140</td>\n",
       "      <td>-0.134658</td>\n",
       "      <td>0.635898</td>\n",
       "      <td>-0.228871</td>\n",
       "      <td>-0.323003</td>\n",
       "      <td>1.956466</td>\n",
       "      <td>1.250985</td>\n",
       "      <td>-2.137466</td>\n",
       "      <td>0.035397</td>\n",
       "      <td>-1.859363</td>\n",
       "      <td>1.307699</td>\n",
       "      <td>-0.055403</td>\n",
       "      <td>-1.263298</td>\n",
       "      <td>-2.643305</td>\n",
       "      <td>0.096016</td>\n",
       "      <td>-0.516826</td>\n",
       "      <td>-0.201950</td>\n",
       "      <td>0.492521</td>\n",
       "      <td>0.257075</td>\n",
       "      <td>-0.235526</td>\n",
       "    </tr>\n",
       "    <tr>\n",
       "      <th>2</th>\n",
       "      <td>1.088266</td>\n",
       "      <td>0.361084</td>\n",
       "      <td>-0.369866</td>\n",
       "      <td>0.631303</td>\n",
       "      <td>-0.842440</td>\n",
       "      <td>0.778585</td>\n",
       "      <td>1.274220</td>\n",
       "      <td>-0.163958</td>\n",
       "      <td>-1.228706</td>\n",
       "      <td>0.608029</td>\n",
       "      <td>0.125347</td>\n",
       "      <td>0.508198</td>\n",
       "      <td>1.774571</td>\n",
       "      <td>1.868732</td>\n",
       "      <td>0.692071</td>\n",
       "      <td>-0.781325</td>\n",
       "      <td>-0.831241</td>\n",
       "      <td>-1.479062</td>\n",
       "      <td>-2.772547</td>\n",
       "      <td>-1.124720</td>\n",
       "    </tr>\n",
       "    <tr>\n",
       "      <th>3</th>\n",
       "      <td>1.414196</td>\n",
       "      <td>0.220860</td>\n",
       "      <td>0.445752</td>\n",
       "      <td>0.958012</td>\n",
       "      <td>0.312812</td>\n",
       "      <td>0.177372</td>\n",
       "      <td>0.570464</td>\n",
       "      <td>-1.574997</td>\n",
       "      <td>-0.395758</td>\n",
       "      <td>-0.551780</td>\n",
       "      <td>0.641981</td>\n",
       "      <td>1.781918</td>\n",
       "      <td>0.676220</td>\n",
       "      <td>0.234164</td>\n",
       "      <td>0.766046</td>\n",
       "      <td>1.216681</td>\n",
       "      <td>-1.505077</td>\n",
       "      <td>-0.209728</td>\n",
       "      <td>-0.813483</td>\n",
       "      <td>-1.402523</td>\n",
       "    </tr>\n",
       "    <tr>\n",
       "      <th>4</th>\n",
       "      <td>-0.700310</td>\n",
       "      <td>0.963487</td>\n",
       "      <td>0.607439</td>\n",
       "      <td>0.963337</td>\n",
       "      <td>0.630733</td>\n",
       "      <td>-0.856031</td>\n",
       "      <td>-0.053556</td>\n",
       "      <td>0.735675</td>\n",
       "      <td>0.632425</td>\n",
       "      <td>0.611477</td>\n",
       "      <td>0.549131</td>\n",
       "      <td>0.428777</td>\n",
       "      <td>0.394717</td>\n",
       "      <td>-0.016333</td>\n",
       "      <td>0.578344</td>\n",
       "      <td>-0.022697</td>\n",
       "      <td>2.803748</td>\n",
       "      <td>1.295784</td>\n",
       "      <td>0.190670</td>\n",
       "      <td>0.644819</td>\n",
       "    </tr>\n",
       "  </tbody>\n",
       "</table>\n",
       "</div>"
      ],
      "text/plain": [
       "         x1        x2        x3        x4        x5        x6        x7  \\\n",
       "0  0.046451 -2.225275 -1.823140  0.652070  1.257310 -0.194679  0.304902   \n",
       "1  0.345140 -0.134658  0.635898 -0.228871 -0.323003  1.956466  1.250985   \n",
       "2  1.088266  0.361084 -0.369866  0.631303 -0.842440  0.778585  1.274220   \n",
       "3  1.414196  0.220860  0.445752  0.958012  0.312812  0.177372  0.570464   \n",
       "4 -0.700310  0.963487  0.607439  0.963337  0.630733 -0.856031 -0.053556   \n",
       "\n",
       "         x8        x9       x10       x11       x12       x13       x14  \\\n",
       "0 -0.883773  0.319061  0.141315 -2.707939  0.656691  1.323474  1.643752   \n",
       "1 -2.137466  0.035397 -1.859363  1.307699 -0.055403 -1.263298 -2.643305   \n",
       "2 -0.163958 -1.228706  0.608029  0.125347  0.508198  1.774571  1.868732   \n",
       "3 -1.574997 -0.395758 -0.551780  0.641981  1.781918  0.676220  0.234164   \n",
       "4  0.735675  0.632425  0.611477  0.549131  0.428777  0.394717 -0.016333   \n",
       "\n",
       "        x15       x16       x17       x18       x19       x20  \n",
       "0  0.601550 -0.971904  0.162820 -0.847057 -0.441616 -0.154150  \n",
       "1  0.096016 -0.516826 -0.201950  0.492521  0.257075 -0.235526  \n",
       "2  0.692071 -0.781325 -0.831241 -1.479062 -2.772547 -1.124720  \n",
       "3  0.766046  1.216681 -1.505077 -0.209728 -0.813483 -1.402523  \n",
       "4  0.578344 -0.022697  2.803748  1.295784  0.190670  0.644819  "
      ]
     },
     "execution_count": 18,
     "metadata": {},
     "output_type": "execute_result"
    }
   ],
   "source": [
    "scaled_features = df_test.copy()\n",
    "col_names = ['x'+str(i) for i in range(1,21)]\n",
    "features = scaled_features[col_names]\n",
    "scaler = StandardScaler().fit(features.values)\n",
    "features = scaler.transform(features.values)\n",
    "\n",
    "\n",
    "scaled_features[col_names] = features\n",
    "scaled_features.head()"
   ]
  },
  {
   "cell_type": "code",
   "execution_count": 19,
   "id": "68b53c6f",
   "metadata": {
    "execution": {
     "iopub.execute_input": "2022-06-12T17:26:30.088369Z",
     "iopub.status.busy": "2022-06-12T17:26:30.086391Z",
     "iopub.status.idle": "2022-06-12T17:26:30.099162Z",
     "shell.execute_reply": "2022-06-12T17:26:30.099619Z",
     "shell.execute_reply.started": "2022-06-12T17:25:04.250025Z"
    },
    "papermill": {
     "duration": 0.069159,
     "end_time": "2022-06-12T17:26:30.099800",
     "exception": false,
     "start_time": "2022-06-12T17:26:30.030641",
     "status": "completed"
    },
    "tags": []
   },
   "outputs": [
    {
     "name": "stdout",
     "output_type": "stream",
     "text": [
      "<class 'pandas.core.frame.DataFrame'>\n",
      "RangeIndex: 2500 entries, 0 to 2499\n",
      "Data columns (total 20 columns):\n",
      " #   Column  Non-Null Count  Dtype  \n",
      "---  ------  --------------  -----  \n",
      " 0   x1      2500 non-null   float64\n",
      " 1   x2      2500 non-null   float64\n",
      " 2   x3      2500 non-null   float64\n",
      " 3   x4      2500 non-null   float64\n",
      " 4   x5      2500 non-null   float64\n",
      " 5   x6      2500 non-null   float64\n",
      " 6   x7      2500 non-null   float64\n",
      " 7   x8      2500 non-null   float64\n",
      " 8   x9      2500 non-null   float64\n",
      " 9   x10     2500 non-null   float64\n",
      " 10  x11     2500 non-null   float64\n",
      " 11  x12     2500 non-null   float64\n",
      " 12  x13     2500 non-null   float64\n",
      " 13  x14     2500 non-null   float64\n",
      " 14  x15     2500 non-null   float64\n",
      " 15  x16     2500 non-null   float64\n",
      " 16  x17     2500 non-null   float64\n",
      " 17  x18     2500 non-null   float64\n",
      " 18  x19     2500 non-null   float64\n",
      " 19  x20     2500 non-null   float64\n",
      "dtypes: float64(20)\n",
      "memory usage: 390.8 KB\n"
     ]
    }
   ],
   "source": [
    "scaled_features.info()"
   ]
  },
  {
   "cell_type": "code",
   "execution_count": 20,
   "id": "64179774",
   "metadata": {
    "execution": {
     "iopub.execute_input": "2022-06-12T17:26:30.208487Z",
     "iopub.status.busy": "2022-06-12T17:26:30.207766Z",
     "iopub.status.idle": "2022-06-12T17:26:30.224084Z",
     "shell.execute_reply": "2022-06-12T17:26:30.225116Z",
     "shell.execute_reply.started": "2022-06-12T17:25:04.281915Z"
    },
    "papermill": {
     "duration": 0.071717,
     "end_time": "2022-06-12T17:26:30.225396",
     "exception": false,
     "start_time": "2022-06-12T17:26:30.153679",
     "status": "completed"
    },
    "tags": []
   },
   "outputs": [
    {
     "data": {
      "text/plain": [
       "array([1, 1, 0, ..., 0, 1, 0])"
      ]
     },
     "execution_count": 20,
     "metadata": {},
     "output_type": "execute_result"
    }
   ],
   "source": [
    "X_test=scaled_features[['x2','x3','x6','x7','x8','x9','x10','x12','x14','x15']].to_numpy()\n",
    "clf_log.predict(X_test)"
   ]
  },
  {
   "cell_type": "code",
   "execution_count": 21,
   "id": "0a97840c",
   "metadata": {
    "execution": {
     "iopub.execute_input": "2022-06-12T17:26:30.408294Z",
     "iopub.status.busy": "2022-06-12T17:26:30.407017Z",
     "iopub.status.idle": "2022-06-12T17:26:30.436794Z",
     "shell.execute_reply": "2022-06-12T17:26:30.437697Z",
     "shell.execute_reply.started": "2022-06-12T17:25:04.313881Z"
    },
    "papermill": {
     "duration": 0.100563,
     "end_time": "2022-06-12T17:26:30.437987",
     "exception": false,
     "start_time": "2022-06-12T17:26:30.337424",
     "status": "completed"
    },
    "tags": []
   },
   "outputs": [
    {
     "data": {
      "text/html": [
       "<div>\n",
       "<style scoped>\n",
       "    .dataframe tbody tr th:only-of-type {\n",
       "        vertical-align: middle;\n",
       "    }\n",
       "\n",
       "    .dataframe tbody tr th {\n",
       "        vertical-align: top;\n",
       "    }\n",
       "\n",
       "    .dataframe thead th {\n",
       "        text-align: right;\n",
       "    }\n",
       "</style>\n",
       "<table border=\"1\" class=\"dataframe\">\n",
       "  <thead>\n",
       "    <tr style=\"text-align: right;\">\n",
       "      <th></th>\n",
       "      <th>id</th>\n",
       "      <th>Expected</th>\n",
       "    </tr>\n",
       "  </thead>\n",
       "  <tbody>\n",
       "    <tr>\n",
       "      <th>0</th>\n",
       "      <td>1</td>\n",
       "      <td>1</td>\n",
       "    </tr>\n",
       "    <tr>\n",
       "      <th>1</th>\n",
       "      <td>2</td>\n",
       "      <td>1</td>\n",
       "    </tr>\n",
       "    <tr>\n",
       "      <th>2</th>\n",
       "      <td>3</td>\n",
       "      <td>0</td>\n",
       "    </tr>\n",
       "    <tr>\n",
       "      <th>3</th>\n",
       "      <td>4</td>\n",
       "      <td>0</td>\n",
       "    </tr>\n",
       "    <tr>\n",
       "      <th>4</th>\n",
       "      <td>5</td>\n",
       "      <td>0</td>\n",
       "    </tr>\n",
       "  </tbody>\n",
       "</table>\n",
       "</div>"
      ],
      "text/plain": [
       "   id  Expected\n",
       "0   1         1\n",
       "1   2         1\n",
       "2   3         0\n",
       "3   4         0\n",
       "4   5         0"
      ]
     },
     "execution_count": 21,
     "metadata": {},
     "output_type": "execute_result"
    }
   ],
   "source": [
    "predict = clf_log.predict(X_test)\n",
    "fields = ['id','Expected']\n",
    "df = pd.DataFrame()\n",
    "id = list(range(1,2501))\n",
    "df['id']=pd.Series(id)\n",
    "df['Expected']=pd.Series(predict)\n",
    "df.to_csv('submit.csv', index=False)\n",
    "df.head()"
   ]
  },
  {
   "cell_type": "code",
   "execution_count": null,
   "id": "cb7badc3",
   "metadata": {
    "papermill": {
     "duration": 0.052755,
     "end_time": "2022-06-12T17:26:30.587240",
     "exception": false,
     "start_time": "2022-06-12T17:26:30.534485",
     "status": "completed"
    },
    "tags": []
   },
   "outputs": [],
   "source": []
  },
  {
   "cell_type": "code",
   "execution_count": 22,
   "id": "2627262f",
   "metadata": {
    "execution": {
     "iopub.execute_input": "2022-06-12T17:26:30.697944Z",
     "iopub.status.busy": "2022-06-12T17:26:30.696968Z",
     "iopub.status.idle": "2022-06-12T17:26:30.699856Z",
     "shell.execute_reply": "2022-06-12T17:26:30.699257Z",
     "shell.execute_reply.started": "2022-06-12T17:25:04.377134Z"
    },
    "papermill": {
     "duration": 0.059037,
     "end_time": "2022-06-12T17:26:30.699996",
     "exception": false,
     "start_time": "2022-06-12T17:26:30.640959",
     "status": "completed"
    },
    "tags": []
   },
   "outputs": [],
   "source": [
    "# Your work\n",
    "# Must have\n",
    "# 1. Cleansing data\n",
    "# 2. Exploratory Data Analysis (describe insight and visualization)\n",
    "# 3. Training data - Crossvalidation\n",
    "# 4. Testing data"
   ]
  },
  {
   "cell_type": "code",
   "execution_count": 23,
   "id": "60c96f61",
   "metadata": {
    "execution": {
     "iopub.execute_input": "2022-06-12T17:26:30.811018Z",
     "iopub.status.busy": "2022-06-12T17:26:30.810087Z",
     "iopub.status.idle": "2022-06-12T17:26:30.813316Z",
     "shell.execute_reply": "2022-06-12T17:26:30.813897Z",
     "shell.execute_reply.started": "2022-06-12T17:25:04.396754Z"
    },
    "papermill": {
     "duration": 0.060855,
     "end_time": "2022-06-12T17:26:30.814066",
     "exception": false,
     "start_time": "2022-06-12T17:26:30.753211",
     "status": "completed"
    },
    "tags": []
   },
   "outputs": [],
   "source": [
    "#"
   ]
  }
 ],
 "metadata": {
  "kernelspec": {
   "display_name": "Python 3",
   "language": "python",
   "name": "python3"
  },
  "language_info": {
   "codemirror_mode": {
    "name": "ipython",
    "version": 3
   },
   "file_extension": ".py",
   "mimetype": "text/x-python",
   "name": "python",
   "nbconvert_exporter": "python",
   "pygments_lexer": "ipython3",
   "version": "3.8.8"
  },
  "papermill": {
   "default_parameters": {},
   "duration": 45.285114,
   "end_time": "2022-06-12T17:26:31.681331",
   "environment_variables": {},
   "exception": null,
   "input_path": "__notebook__.ipynb",
   "output_path": "__notebook__.ipynb",
   "parameters": {},
   "start_time": "2022-06-12T17:25:46.396217",
   "version": "2.3.3"
  }
 },
 "nbformat": 4,
 "nbformat_minor": 5
}
